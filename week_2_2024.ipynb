{
  "nbformat": 4,
  "nbformat_minor": 0,
  "metadata": {
    "colab": {
      "provenance": [],
      "include_colab_link": true
    },
    "kernelspec": {
      "name": "python3",
      "display_name": "Python 3"
    },
    "language_info": {
      "name": "python"
    }
  },
  "cells": [
    {
      "cell_type": "markdown",
      "metadata": {
        "id": "view-in-github",
        "colab_type": "text"
      },
      "source": [
        "<a href=\"https://colab.research.google.com/github/thewellnesscurator/DA_M1_Notebooks/blob/main/week_2_2024.ipynb\" target=\"_parent\"><img src=\"https://colab.research.google.com/assets/colab-badge.svg\" alt=\"Open In Colab\"/></a>"
      ]
    },
    {
      "cell_type": "markdown",
      "source": [
        "# What are Lists in Python?\n",
        "\n",
        "**Objective:** Introduce the concept of lists in Python.\n",
        "\n",
        "Explanation:\n",
        "\n",
        "A list is a collection of items (elements) that are ordered, changeable, and allow duplicate elements.\n",
        "Lists are written with square brackets [].\n",
        "Example:\n",
        "\n",
        "```python\n",
        "fruits = [\"apple\", \"banana\", \"cherry\"]\n",
        "```\n",
        "\n",
        "Activity:\n",
        "\n",
        "- Create lists of favorite books, cities, or colors.\n",
        "- Print the list and check its type using `type()`.\n",
        "\n"
      ],
      "metadata": {
        "id": "FqqtQCvbEfea"
      }
    },
    {
      "cell_type": "code",
      "source": [
        "#your code here"
      ],
      "metadata": {
        "id": "VBxzp_P7kHg4"
      },
      "execution_count": null,
      "outputs": []
    },
    {
      "cell_type": "markdown",
      "source": [
        "# Using an Index to Access Lists\n",
        "\n",
        "**Objective:** Teach how to access list elements using their index.\n",
        "\n",
        "Explanation:\n",
        "\n",
        "Lists are zero-indexed, meaning the first element has an index of 0.\n",
        "Negative indexing can be used to access elements from the end of the list.\n",
        "Example:\n",
        "\n",
        "```python\n",
        "fruits = [\"apple\", \"banana\", \"cherry\"]\n",
        "print(fruits[0])  # Output: apple\n",
        "print(fruits[-1])  # Output: cherry\n",
        "```\n",
        "\n",
        "Activity:\n",
        "\n",
        "- Access different elements from your list using positive and negative indexes.\n",
        "- Practice with a out-of-range indices and note what happened."
      ],
      "metadata": {
        "id": "OpnYOl-SkHrM"
      }
    },
    {
      "cell_type": "code",
      "source": [
        "#your code here"
      ],
      "metadata": {
        "id": "EHh4i3BbkzcE"
      },
      "execution_count": null,
      "outputs": []
    },
    {
      "cell_type": "markdown",
      "source": [
        "# Important Functions and Methods for Lists\n",
        "\n",
        "**Objective:** Familiarize students with essential list functions and methods.\n",
        "\n",
        "Explanation:\n",
        "\n",
        "Common list methods:\n",
        "- `append()`: Add an item at the end.\n",
        "- `insert()`: Insert an item at a specific index.\n",
        "- `remove()`: Remove a specific item.\n",
        "- `pop()`: Remove an item at a specific position (or the last one if no index is provided).\n",
        "- `sort()`: Sort the list.\n",
        "\n",
        "Example:\n",
        "\n",
        "```python\n",
        "fruits = [\"apple\", \"banana\", \"cherry\"]\n",
        "fruits.append(\"orange\")\n",
        "fruits.remove(\"banana\")\n",
        "print(fruits)  # Output: [\"apple\", \"cherry\", \"orange\"]\n",
        "```\n",
        "\n",
        "Activity:\n",
        "\n",
        "- Modify your lists using different methods (add, remove, and sort elements).\n",
        "- Practice `pop()` to see how it returns and removes an element."
      ],
      "metadata": {
        "id": "k6lAH4qskzrX"
      }
    },
    {
      "cell_type": "code",
      "source": [
        "#your code here"
      ],
      "metadata": {
        "id": "De2Kjp-RMzKP"
      },
      "execution_count": null,
      "outputs": []
    },
    {
      "cell_type": "markdown",
      "source": [
        "# Iterating Using the for Loop\n",
        "\n",
        "**Objective:** Teach how to iterate over lists using for loops.\n",
        "\n",
        "**Explanation:**\n",
        "\n",
        "A for loop allows you to go through each element in a list.\n",
        "It repeats the block of code for every element.\n",
        "\n",
        "Example:\n",
        "\n",
        "```python\n",
        "fruits = [\"apple\", \"banana\", \"cherry\"]\n",
        "for fruit in fruits:\n",
        "    print(fruit)\n",
        "```\n",
        "\n",
        "Activity:\n",
        "\n",
        "- Write a for loop that prints each element of their lists.\n",
        "- Combine a for loop with an if condition (e.g., print only fruits starting with \"a\").\n"
      ],
      "metadata": {
        "id": "4uRYh4WnmdxQ"
      }
    },
    {
      "cell_type": "code",
      "source": [
        "# your code here"
      ],
      "metadata": {
        "id": "MZgJu1fGmjmz"
      },
      "execution_count": null,
      "outputs": []
    },
    {
      "cell_type": "markdown",
      "source": [
        "# Using Ranges to Create Sequences of Numbers\n",
        "\n",
        "**Objective:** Learn how to generate a range of numbers and use them in loops.\n",
        "\n",
        "Explanation:\n",
        "\n",
        "`range(start, stop, step)` generates numbers in a sequence.\n",
        "It’s often used in for loops when working with indices or generating sequences.\n",
        "Example:\n",
        "\n",
        "```python\n",
        "for i in range(5):\n",
        "    print(i)  # Output: 0, 1, 2, 3, 4\n",
        "```\n",
        "\n",
        "**Activity:**\n",
        "\n",
        "- Write a loop that uses `range()` to print numbers from 1 to 10.\n",
        "- Use a step of 2 to print every second number.\n",
        "\n"
      ],
      "metadata": {
        "id": "QiSH1jNqmj-F"
      }
    },
    {
      "cell_type": "code",
      "source": [
        "#your code here"
      ],
      "metadata": {
        "id": "-sCSwObLoG7W"
      },
      "execution_count": null,
      "outputs": []
    },
    {
      "cell_type": "markdown",
      "source": [
        "# Sequences\n",
        "\n",
        "**Objective:** Understand sequences and their shared characteristics.\n",
        "\n",
        "**Explanation:**\n",
        "\n",
        "Lists, strings, and tuples are all sequences in Python.\n",
        "Sequences support common operations like indexing, slicing, and iteration.\n",
        "Example:\n",
        "\n",
        "```python\n",
        "sequence = [1, 2, 3, 4, 5]\n",
        "print(sequence[0])  # Output: 1\n",
        "```\n",
        "\n",
        "Activity:\n",
        "\n",
        "- Create sequences using different data types (list, string, tuple).\n",
        "- Discuss similarities between lists and other sequences (e.g., strings can be indexed similarly).\n",
        "\n",
        "\n"
      ],
      "metadata": {
        "id": "wuUAqq0goHSs"
      }
    },
    {
      "cell_type": "code",
      "source": [
        "#your code here"
      ],
      "metadata": {
        "id": "180KxnhYod7L"
      },
      "execution_count": null,
      "outputs": []
    },
    {
      "cell_type": "markdown",
      "source": [
        "# Slicing\n",
        "\n",
        "**Objective:** Learn how to extract subsets of a list using slicing.\n",
        "\n",
        "**Explanation:**\n",
        "\n",
        "Slicing allows you to extract parts of a list (or any sequence) using start:end:step.\n",
        "start is inclusive, but end is exclusive.\n",
        "Example:\n",
        "\n",
        "```python\n",
        "numbers = [0, 1, 2, 3, 4, 5]\n",
        "print(numbers[1:4])  # Output: [1, 2, 3]\n",
        "```\n",
        "\n",
        "**Activity:**\n",
        "\n",
        "- Extract a subset of their list using slicing.\n",
        "- Try slices with different step values (e.g., reverse the list with [::-1]).\n"
      ],
      "metadata": {
        "id": "U9NF7lWmofVd"
      }
    },
    {
      "cell_type": "code",
      "source": [
        "#your code here"
      ],
      "metadata": {
        "id": "nLTFgBg3o7i-"
      },
      "execution_count": null,
      "outputs": []
    },
    {
      "cell_type": "markdown",
      "source": [
        "# List Comprehension\n",
        "\n",
        "**Objective:** Introduce list comprehension for creating new lists in a concise way.\n",
        "\n",
        "**Explanation:**\n",
        "\n",
        "List comprehension offers a shorter syntax to create new lists based on existing ones.\n",
        "Example:\n",
        "\n",
        "```python\n",
        "numbers = [1, 2, 3, 4, 5]\n",
        "squares = [x**2 for x in numbers]\n",
        "print(squares)  # Output: [1, 4, 9, 16, 25]\n",
        "```\n",
        "\n",
        "**Activity:**\n",
        "\n",
        "- create a new list using list comprehension, e.g., a list of squares or even numbers.\n",
        "- ***Challenge*** include an if condition in the comprehension, such as filtering out odd numbers."
      ],
      "metadata": {
        "id": "FXvlWq_3o7qr"
      }
    },
    {
      "cell_type": "code",
      "source": [
        "# your code here"
      ],
      "metadata": {
        "id": "kqY4gunPpjhG"
      },
      "execution_count": null,
      "outputs": []
    },
    {
      "cell_type": "markdown",
      "source": [
        "# Final Exercise:\n",
        "\n",
        "Create a program that:\n",
        "- Asks the user to input a list of numbers  \n",
        "- Then prints the list.\n",
        "- Slices and prints the first 3 elements\n",
        "- Uses list comprehension to print the square of each number."
      ],
      "metadata": {
        "id": "uQiffD-8plJs"
      }
    },
    {
      "cell_type": "code",
      "source": [
        "# your code here"
      ],
      "metadata": {
        "id": "zG9FeDZMqbon"
      },
      "execution_count": null,
      "outputs": []
    },
    {
      "cell_type": "markdown",
      "source": [
        "# Bonus\n",
        "\n",
        "### FizzBuzz Instructions:\n",
        "\n",
        "1. Objective: Write a program that prints the numbers from 1 to 100.\n",
        "    - But for multiples of 3, print \"Fizz\" instead of the number\n",
        "  - For multiples of 5, print \"Buzz.\"\n",
        "  - For numbers which are multiples of both 3 and 5, print \"FizzBuzz.\"\n",
        "\n",
        "2. Using the Modulus Operator (%):\n",
        "  - The modulus operator is key to determining whether a number is divisible by another number. It returns the remainder of a division.\n",
        "\n",
        "\n",
        "3. Steps:\n",
        "\n",
        "  - Loop through numbers from 1 to 100.\n",
        "  - For each number, use the modulus operator to check:\n",
        "  - If it is divisible by both 3 and 5, print \"FizzBuzz.\"\n",
        "  - If it is divisible only by 3, print \"Fizz.\"\n",
        "  - If it is divisible only by 5, print \"Buzz.\"\n",
        "  - Otherwise, print the number itself.\n"
      ],
      "metadata": {
        "id": "aGs2Lzd_NEn8"
      }
    },
    {
      "cell_type": "code",
      "source": [],
      "metadata": {
        "id": "Sbig89F5NZmQ"
      },
      "execution_count": null,
      "outputs": []
    }
  ]
}