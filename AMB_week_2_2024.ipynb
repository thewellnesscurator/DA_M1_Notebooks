{
  "nbformat": 4,
  "nbformat_minor": 0,
  "metadata": {
    "colab": {
      "provenance": [],
      "include_colab_link": true
    },
    "kernelspec": {
      "name": "python3",
      "display_name": "Python 3"
    },
    "language_info": {
      "name": "python"
    }
  },
  "cells": [
    {
      "cell_type": "markdown",
      "metadata": {
        "id": "view-in-github",
        "colab_type": "text"
      },
      "source": [
        "<a href=\"https://colab.research.google.com/github/thewellnesscurator/DA_M1_Notebooks/blob/main/AMB_week_2_2024.ipynb\" target=\"_parent\"><img src=\"https://colab.research.google.com/assets/colab-badge.svg\" alt=\"Open In Colab\"/></a>"
      ]
    },
    {
      "cell_type": "markdown",
      "source": [
        "# What are Lists in Python?\n",
        "\n",
        "**Objective:** Introduce the concept of lists in Python.\n",
        "\n",
        "Explanation:\n",
        "\n",
        "A list is a collection of items (elements) that are ordered, changeable, and allow duplicate elements.\n",
        "Lists are written with square brackets [].\n",
        "Example:\n",
        "\n",
        "```python\n",
        "fruits = [\"apple\", \"banana\", \"cherry\"]\n",
        "```\n",
        "\n",
        "Activity:\n",
        "\n",
        "- Create lists of favorite books, cities, or colors.\n",
        "- Print the list and check its type using `type()`.\n",
        "\n"
      ],
      "metadata": {
        "id": "FqqtQCvbEfea"
      }
    },
    {
      "cell_type": "code",
      "source": [
        "cities = [\"New Orleans\", \"DC\", \"Paris\"]\n",
        "print(cities)\n",
        "print(type(cities))"
      ],
      "metadata": {
        "id": "VBxzp_P7kHg4",
        "colab": {
          "base_uri": "https://localhost:8080/"
        },
        "outputId": "786179b3-f4a4-4122-c422-683e1a061fa9"
      },
      "execution_count": null,
      "outputs": [
        {
          "output_type": "stream",
          "name": "stdout",
          "text": [
            "['New Orleans', 'DC', 'Paris']\n",
            "<class 'list'>\n"
          ]
        }
      ]
    },
    {
      "cell_type": "markdown",
      "source": [
        "# Using an Index to Access Lists\n",
        "\n",
        "**Objective:** Teach how to access list elements using their index.\n",
        "\n",
        "Explanation:\n",
        "\n",
        "Lists are zero-indexed, meaning the first element has an index of 0.\n",
        "Negative indexing can be used to access elements from the end of the list.\n",
        "Example:\n",
        "\n",
        "```python\n",
        "fruits = [\"apple\", \"banana\", \"cherry\"]\n",
        "print(fruits[0])  # Output: apple\n",
        "print(fruits[-1])  # Output: cherry\n",
        "```\n",
        "\n",
        "Activity:\n",
        "\n",
        "- Access different elements from your list using positive and negative indexes.\n",
        "- Practice with a out-of-range indices and note what happened."
      ],
      "metadata": {
        "id": "OpnYOl-SkHrM"
      }
    },
    {
      "cell_type": "code",
      "source": [
        "print(cities[1])\n",
        "print(cities[-1])"
      ],
      "metadata": {
        "id": "EHh4i3BbkzcE",
        "colab": {
          "base_uri": "https://localhost:8080/"
        },
        "outputId": "512e928e-563e-4253-fdf8-6b4c4a8b4efe"
      },
      "execution_count": null,
      "outputs": [
        {
          "output_type": "stream",
          "name": "stdout",
          "text": [
            "DC\n",
            "Paris\n"
          ]
        }
      ]
    },
    {
      "cell_type": "markdown",
      "source": [],
      "metadata": {
        "id": "NiA6OdfDjWBp"
      }
    },
    {
      "cell_type": "markdown",
      "source": [
        "# Important Functions and Methods for Lists\n",
        "\n",
        "**Objective:** Familiarize students with essential list functions and methods.\n",
        "\n",
        "Explanation:\n",
        "\n",
        "Common list methods:\n",
        "- `append()`: Add an item at the end.\n",
        "- `insert()`: Insert an item at a specific index.\n",
        "- `remove()`: Remove a specific item.\n",
        "- `pop()`: Remove an item at a specific position (or the last one if no index is provided).\n",
        "- `sort()`: Sort the list.\n",
        "\n",
        "Example:\n",
        "\n",
        "```python\n",
        "fruits = [\"apple\", \"banana\", \"cherry\"]\n",
        "fruits.append(\"orange\")\n",
        "fruits.remove(\"banana\")\n",
        "print(fruits)  # Output: [\"apple\", \"cherry\", \"orange\"]\n",
        "```\n",
        "\n",
        "Activity:\n",
        "\n",
        "- Modify your lists using different methods (add, remove, and sort elements).\n",
        "- Practice `pop()` to see how it returns and removes an element."
      ],
      "metadata": {
        "id": "k6lAH4qskzrX"
      }
    },
    {
      "cell_type": "code",
      "source": [
        "cities.sort(key=len)\n",
        "print(cities)"
      ],
      "metadata": {
        "id": "De2Kjp-RMzKP",
        "colab": {
          "base_uri": "https://localhost:8080/"
        },
        "outputId": "2bdf061d-c89c-4649-8623-775b6153f74c"
      },
      "execution_count": null,
      "outputs": [
        {
          "output_type": "stream",
          "name": "stdout",
          "text": [
            "['DC', 'Paris', 'New Orleans']\n"
          ]
        }
      ]
    },
    {
      "cell_type": "markdown",
      "source": [
        "# Iterating Using the for Loop\n",
        "\n",
        "**Objective:** Teach how to iterate over lists using for loops.\n",
        "\n",
        "**Explanation:**\n",
        "\n",
        "A for loop allows you to go through each element in a list.\n",
        "It repeats the block of code for every element.\n",
        "\n",
        "Example:\n",
        "\n",
        "```python\n",
        "fruits = [\"apple\", \"banana\", \"cherry\"]\n",
        "for fruit in fruits:\n",
        "    print(fruit)\n",
        "```\n",
        "\n",
        "Activity:\n",
        "\n",
        "- Write a for loop that prints each element of their lists.\n",
        "- Combine a for loop with an if condition (e.g., print only fruits starting with \"a\").\n"
      ],
      "metadata": {
        "id": "4uRYh4WnmdxQ"
      }
    },
    {
      "cell_type": "code",
      "source": [
        "for city in cities:\n",
        "  if city.startswith(\"L\"):\n",
        "    print(city)\n",
        "for city in cities:\n",
        "  if city.endswith(\"s\"):\n",
        "    print(city)\n",
        "\n"
      ],
      "metadata": {
        "id": "MZgJu1fGmjmz",
        "colab": {
          "base_uri": "https://localhost:8080/"
        },
        "outputId": "d7b6ab83-7516-4890-8c80-2f565e751b1f"
      },
      "execution_count": null,
      "outputs": [
        {
          "output_type": "stream",
          "name": "stdout",
          "text": [
            "Paris\n",
            "New Orleans\n"
          ]
        }
      ]
    },
    {
      "cell_type": "markdown",
      "source": [
        "# Using Ranges to Create Sequences of Numbers\n",
        "\n",
        "**Objective:** Learn how to generate a range of numbers and use them in loops.\n",
        "\n",
        "Explanation:\n",
        "\n",
        "`range(start, stop, step)` generates numbers in a sequence.\n",
        "It’s often used in for loops when working with indices or generating sequences.\n",
        "Example:\n",
        "\n",
        "```python\n",
        "for i in range(5):\n",
        "    print(i)  # Output: 0, 1, 2, 3, 4\n",
        "```\n",
        "\n",
        "**Activity:**\n",
        "\n",
        "- Write a loop that uses `range()` to print numbers from 1 to 10.\n",
        "- Use a step of 2 to print every second number.\n",
        "\n"
      ],
      "metadata": {
        "id": "QiSH1jNqmj-F"
      }
    },
    {
      "cell_type": "code",
      "source": [
        "for i in range(1,11,2):\n",
        "  print(i)"
      ],
      "metadata": {
        "id": "-sCSwObLoG7W",
        "colab": {
          "base_uri": "https://localhost:8080/"
        },
        "outputId": "ca698a16-6983-4c60-c1a2-d65520b20a09"
      },
      "execution_count": null,
      "outputs": [
        {
          "output_type": "stream",
          "name": "stdout",
          "text": [
            "1\n",
            "3\n",
            "5\n",
            "7\n",
            "9\n"
          ]
        }
      ]
    },
    {
      "cell_type": "markdown",
      "source": [
        "# Sequences\n",
        "\n",
        "**Objective:** Understand sequences and their shared characteristics.\n",
        "\n",
        "**Explanation:**\n",
        "\n",
        "Lists, strings, and tuples are all sequences in Python.\n",
        "Sequences support common operations like indexing, slicing, and iteration.\n",
        "Example:\n",
        "\n",
        "```python\n",
        "sequence = [1, 2, 3, 4, 5]\n",
        "print(sequence[0])  # Output: 1\n",
        "```\n",
        "\n",
        "Activity:\n",
        "\n",
        "- Create sequences using different data types (list, string, tuple).\n",
        "- Discuss similarities between lists and other sequences (e.g., strings can be indexed similarly).\n",
        "\n",
        "\n"
      ],
      "metadata": {
        "id": "wuUAqq0goHSs"
      }
    },
    {
      "cell_type": "code",
      "source": [
        "print(cities[1])"
      ],
      "metadata": {
        "id": "180KxnhYod7L",
        "colab": {
          "base_uri": "https://localhost:8080/"
        },
        "outputId": "22cd08f1-92f7-41a3-cc59-2f2e608cf57b"
      },
      "execution_count": null,
      "outputs": [
        {
          "output_type": "stream",
          "name": "stdout",
          "text": [
            "Paris\n"
          ]
        }
      ]
    },
    {
      "cell_type": "markdown",
      "source": [
        "# Slicing\n",
        "\n",
        "**Objective:** Learn how to extract subsets of a list using slicing.\n",
        "\n",
        "**Explanation:**\n",
        "\n",
        "Slicing allows you to extract parts of a list (or any sequence) using start:end:step.\n",
        "start is inclusive, but end is exclusive.\n",
        "Example:\n",
        "\n",
        "```python\n",
        "numbers = [0, 1, 2, 3, 4, 5]\n",
        "print(numbers[1:4])  # Output: [1, 2, 3]\n",
        "```\n",
        "\n",
        "**Activity:**\n",
        "\n",
        "- Extract a subset of their list using slicing.\n",
        "- Try slices with different step values (e.g., reverse the list with [::-1]).\n"
      ],
      "metadata": {
        "id": "U9NF7lWmofVd"
      }
    },
    {
      "cell_type": "code",
      "source": [
        "print(cities)\n",
        "print(cities[::-2])"
      ],
      "metadata": {
        "id": "nLTFgBg3o7i-"
      },
      "execution_count": null,
      "outputs": []
    },
    {
      "cell_type": "markdown",
      "source": [
        "# List Comprehension\n",
        "\n",
        "**Objective:** Introduce list comprehension for creating new lists in a concise way.\n",
        "\n",
        "**Explanation:**\n",
        "\n",
        "List comprehension offers a shorter syntax to create new lists based on existing ones.\n",
        "Example:\n",
        "\n",
        "```python\n",
        "numbers = [1, 2, 3, 4, 5]\n",
        "squares = [x**2 for x in numbers]\n",
        "print(squares)  # Output: [1, 4, 9, 16, 25]\n",
        "```\n",
        "\n",
        "**Activity:**\n",
        "\n",
        "- create a new list using list comprehension, e.g., a list of squares or even numbers.\n",
        "- ***Challenge*** include an if condition in the comprehension, such as filtering out odd numbers."
      ],
      "metadata": {
        "id": "FXvlWq_3o7qr"
      }
    },
    {
      "cell_type": "code",
      "source": [
        "numbers = [1,2,3,4,5]\n",
        "squares = [x**2 for x in numbers if x % 2 == 0]\n",
        "\n",
        "print (squares)\n"
      ],
      "metadata": {
        "id": "kqY4gunPpjhG",
        "colab": {
          "base_uri": "https://localhost:8080/"
        },
        "outputId": "ca8cdea0-a6e7-4a20-dd86-b3e048ea778e"
      },
      "execution_count": null,
      "outputs": [
        {
          "output_type": "stream",
          "name": "stdout",
          "text": [
            "[4, 16]\n"
          ]
        }
      ]
    },
    {
      "cell_type": "markdown",
      "source": [
        "# Final Exercise:\n",
        "\n",
        "Create a program that:\n",
        "- Asks the user to input a list of numbers  \n",
        "- Then prints the list.\n",
        "- Slices and prints the first 3 elements\n",
        "- Uses list comprehension to print the square of each number."
      ],
      "metadata": {
        "id": "uQiffD-8plJs"
      }
    },
    {
      "cell_type": "code",
      "source": [],
      "metadata": {
        "id": "_gSg1P4m89IF"
      },
      "execution_count": null,
      "outputs": []
    },
    {
      "cell_type": "markdown",
      "source": [
        "# Bonus\n",
        "\n",
        "### FizzBuzz Instructions:\n",
        "\n",
        "1. Objective: Write a program that prints the numbers from 1 to 100.\n",
        "    - But for multiples of 3, print \"Fizz\" instead of the number\n",
        "  - For multiples of 5, print \"Buzz.\"\n",
        "  - For numbers which are multiples of both 3 and 5, print \"FizzBuzz.\"\n",
        "\n",
        "2. Using the Modulus Operator (%):\n",
        "  - The modulus operator is key to determining whether a number is divisible by another number. It returns the remainder of a division.\n",
        "\n",
        "\n",
        "3. Steps:\n",
        "\n",
        "  - Loop through numbers from 1 to 100.\n",
        "  - For each number, use the modulus operator to check:\n",
        "  - If it is divisible by both 3 and 5, print \"FizzBuzz.\"\n",
        "  - If it is divisible only by 3, print \"Fizz.\"\n",
        "  - If it is divisible only by 5, print \"Buzz.\"\n",
        "  - Otherwise, print the number itself.\n"
      ],
      "metadata": {
        "id": "aGs2Lzd_NEn8"
      }
    },
    {
      "cell_type": "code",
      "source": [
        "for num in range(1,101):\n",
        "  if num % 3 == 0 and num % 5 == 0:\n",
        "    print(\"FizzBuzz\")\n",
        "  elif num % 3 == 0:\n",
        "    print(\"Fizz\")\n",
        "  elif num % 5 == 0:\n",
        "    print(\"Buzz\")\n",
        "  else:\n",
        "    print(num)"
      ],
      "metadata": {
        "id": "Sbig89F5NZmQ",
        "colab": {
          "base_uri": "https://localhost:8080/"
        },
        "outputId": "cbb30fdb-7420-47eb-e53c-5e177db3abb5"
      },
      "execution_count": null,
      "outputs": [
        {
          "output_type": "stream",
          "name": "stdout",
          "text": [
            "1\n",
            "2\n",
            "Fizz\n",
            "4\n",
            "Buzz\n",
            "Fizz\n",
            "7\n",
            "8\n",
            "Fizz\n",
            "Buzz\n",
            "11\n",
            "Fizz\n",
            "13\n",
            "14\n",
            "FizzBuzz\n",
            "16\n",
            "17\n",
            "Fizz\n",
            "19\n",
            "Buzz\n",
            "Fizz\n",
            "22\n",
            "23\n",
            "Fizz\n",
            "Buzz\n",
            "26\n",
            "Fizz\n",
            "28\n",
            "29\n",
            "FizzBuzz\n",
            "31\n",
            "32\n",
            "Fizz\n",
            "34\n",
            "Buzz\n",
            "Fizz\n",
            "37\n",
            "38\n",
            "Fizz\n",
            "Buzz\n",
            "41\n",
            "Fizz\n",
            "43\n",
            "44\n",
            "FizzBuzz\n",
            "46\n",
            "47\n",
            "Fizz\n",
            "49\n",
            "Buzz\n",
            "Fizz\n",
            "52\n",
            "53\n",
            "Fizz\n",
            "Buzz\n",
            "56\n",
            "Fizz\n",
            "58\n",
            "59\n",
            "FizzBuzz\n",
            "61\n",
            "62\n",
            "Fizz\n",
            "64\n",
            "Buzz\n",
            "Fizz\n",
            "67\n",
            "68\n",
            "Fizz\n",
            "Buzz\n",
            "71\n",
            "Fizz\n",
            "73\n",
            "74\n",
            "FizzBuzz\n",
            "76\n",
            "77\n",
            "Fizz\n",
            "79\n",
            "Buzz\n",
            "Fizz\n",
            "82\n",
            "83\n",
            "Fizz\n",
            "Buzz\n",
            "86\n",
            "Fizz\n",
            "88\n",
            "89\n",
            "FizzBuzz\n",
            "91\n",
            "92\n",
            "Fizz\n",
            "94\n",
            "Buzz\n",
            "Fizz\n",
            "97\n",
            "98\n",
            "Fizz\n",
            "Buzz\n"
          ]
        }
      ]
    }
  ]
}